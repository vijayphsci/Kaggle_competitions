{
 "cells": [
  {
   "cell_type": "code",
   "execution_count": 1,
   "metadata": {
    "collapsed": true
   },
   "outputs": [],
   "source": [
    "import matplotlib.pyplot as plt\n",
    "import seaborn as sns\n",
    "import pandas as pd\n",
    "import numpy as np"
   ]
  },
  {
   "cell_type": "code",
   "execution_count": 2,
   "metadata": {
    "collapsed": true
   },
   "outputs": [],
   "source": [
    "#importing dataset\n",
    "input_train=pd.read_csv('train.csv')\n",
    "input_test=pd.read_csv('test.csv')"
   ]
  },
  {
   "cell_type": "code",
   "execution_count": 3,
   "metadata": {
    "collapsed": true
   },
   "outputs": [],
   "source": [
    "train=input_train.drop(['Id','SalePrice'],axis=1)\n",
    "test=input_test.drop(['Id'],axis=1)\n",
    "y=input_train['SalePrice']#target value "
   ]
  },
  {
   "cell_type": "code",
   "execution_count": 4,
   "metadata": {},
   "outputs": [
    {
     "name": "stdout",
     "output_type": "stream",
     "text": [
      "train shape (1460, 79)\n",
      "test shape (1459, 79)\n"
     ]
    }
   ],
   "source": [
    "print('train shape',train.shape)\n",
    "print('test shape',test.shape)"
   ]
  },
  {
   "cell_type": "code",
   "execution_count": 5,
   "metadata": {},
   "outputs": [
    {
     "name": "stdout",
     "output_type": "stream",
     "text": [
      "MSSubClass 0\n",
      "MSZoning 0\n",
      "LotFrontage 259\n",
      "LotArea 0\n",
      "Street 0\n",
      "Alley 1369\n",
      "LotShape 0\n",
      "LandContour 0\n",
      "Utilities 0\n",
      "LotConfig 0\n",
      "LandSlope 0\n",
      "Neighborhood 0\n",
      "Condition1 0\n",
      "Condition2 0\n",
      "BldgType 0\n",
      "HouseStyle 0\n",
      "OverallQual 0\n",
      "OverallCond 0\n",
      "YearBuilt 0\n",
      "YearRemodAdd 0\n",
      "RoofStyle 0\n",
      "RoofMatl 0\n",
      "Exterior1st 0\n",
      "Exterior2nd 0\n",
      "MasVnrType 8\n",
      "MasVnrArea 8\n",
      "ExterQual 0\n",
      "ExterCond 0\n",
      "Foundation 0\n",
      "BsmtQual 37\n",
      "BsmtCond 37\n",
      "BsmtExposure 38\n",
      "BsmtFinType1 37\n",
      "BsmtFinSF1 0\n",
      "BsmtFinType2 38\n",
      "BsmtFinSF2 0\n",
      "BsmtUnfSF 0\n",
      "TotalBsmtSF 0\n",
      "Heating 0\n",
      "HeatingQC 0\n",
      "CentralAir 0\n",
      "Electrical 1\n",
      "1stFlrSF 0\n",
      "2ndFlrSF 0\n",
      "LowQualFinSF 0\n",
      "GrLivArea 0\n",
      "BsmtFullBath 0\n",
      "BsmtHalfBath 0\n",
      "FullBath 0\n",
      "HalfBath 0\n",
      "BedroomAbvGr 0\n",
      "KitchenAbvGr 0\n",
      "KitchenQual 0\n",
      "TotRmsAbvGrd 0\n",
      "Functional 0\n",
      "Fireplaces 0\n",
      "FireplaceQu 690\n",
      "GarageType 81\n",
      "GarageYrBlt 81\n",
      "GarageFinish 81\n",
      "GarageCars 0\n",
      "GarageArea 0\n",
      "GarageQual 81\n",
      "GarageCond 81\n",
      "PavedDrive 0\n",
      "WoodDeckSF 0\n",
      "OpenPorchSF 0\n",
      "EnclosedPorch 0\n",
      "3SsnPorch 0\n",
      "ScreenPorch 0\n",
      "PoolArea 0\n",
      "PoolQC 1453\n",
      "Fence 1179\n",
      "MiscFeature 1406\n",
      "MiscVal 0\n",
      "MoSold 0\n",
      "YrSold 0\n",
      "SaleType 0\n",
      "SaleCondition 0\n"
     ]
    }
   ],
   "source": [
    "#null values in train data\n",
    "for val in train.columns:\n",
    "    print(val,train[val].isnull().sum())"
   ]
  },
  {
   "cell_type": "code",
   "execution_count": 6,
   "metadata": {},
   "outputs": [
    {
     "name": "stdout",
     "output_type": "stream",
     "text": [
      "MSSubClass 0\n",
      "MSZoning 4\n",
      "LotFrontage 227\n",
      "LotArea 0\n",
      "Street 0\n",
      "Alley 1352\n",
      "LotShape 0\n",
      "LandContour 0\n",
      "Utilities 2\n",
      "LotConfig 0\n",
      "LandSlope 0\n",
      "Neighborhood 0\n",
      "Condition1 0\n",
      "Condition2 0\n",
      "BldgType 0\n",
      "HouseStyle 0\n",
      "OverallQual 0\n",
      "OverallCond 0\n",
      "YearBuilt 0\n",
      "YearRemodAdd 0\n",
      "RoofStyle 0\n",
      "RoofMatl 0\n",
      "Exterior1st 1\n",
      "Exterior2nd 1\n",
      "MasVnrType 16\n",
      "MasVnrArea 15\n",
      "ExterQual 0\n",
      "ExterCond 0\n",
      "Foundation 0\n",
      "BsmtQual 44\n",
      "BsmtCond 45\n",
      "BsmtExposure 44\n",
      "BsmtFinType1 42\n",
      "BsmtFinSF1 1\n",
      "BsmtFinType2 42\n",
      "BsmtFinSF2 1\n",
      "BsmtUnfSF 1\n",
      "TotalBsmtSF 1\n",
      "Heating 0\n",
      "HeatingQC 0\n",
      "CentralAir 0\n",
      "Electrical 0\n",
      "1stFlrSF 0\n",
      "2ndFlrSF 0\n",
      "LowQualFinSF 0\n",
      "GrLivArea 0\n",
      "BsmtFullBath 2\n",
      "BsmtHalfBath 2\n",
      "FullBath 0\n",
      "HalfBath 0\n",
      "BedroomAbvGr 0\n",
      "KitchenAbvGr 0\n",
      "KitchenQual 1\n",
      "TotRmsAbvGrd 0\n",
      "Functional 2\n",
      "Fireplaces 0\n",
      "FireplaceQu 730\n",
      "GarageType 76\n",
      "GarageYrBlt 78\n",
      "GarageFinish 78\n",
      "GarageCars 1\n",
      "GarageArea 1\n",
      "GarageQual 78\n",
      "GarageCond 78\n",
      "PavedDrive 0\n",
      "WoodDeckSF 0\n",
      "OpenPorchSF 0\n",
      "EnclosedPorch 0\n",
      "3SsnPorch 0\n",
      "ScreenPorch 0\n",
      "PoolArea 0\n",
      "PoolQC 1456\n",
      "Fence 1169\n",
      "MiscFeature 1408\n",
      "MiscVal 0\n",
      "MoSold 0\n",
      "YrSold 0\n",
      "SaleType 1\n",
      "SaleCondition 0\n"
     ]
    }
   ],
   "source": [
    "#null values in test data\n",
    "for val in test.columns:\n",
    "    print(val,test[val].isnull().sum())"
   ]
  },
  {
   "cell_type": "code",
   "execution_count": 7,
   "metadata": {
    "collapsed": true
   },
   "outputs": [],
   "source": [
    "#null limit is maximum number of null values that particular column can hold if  exceeds then drop column\n",
    "null_limit=500 \n",
    "train_remove_cols=[val for val in train.columns if train[val].isnull().sum()>null_limit]\n",
    "test_remove_cols=[val for val in test.columns if test[val].isnull().sum()>null_limit]"
   ]
  },
  {
   "cell_type": "code",
   "execution_count": 8,
   "metadata": {},
   "outputs": [
    {
     "name": "stdout",
     "output_type": "stream",
     "text": [
      "['Alley', 'FireplaceQu', 'PoolQC', 'Fence', 'MiscFeature']\n",
      "['Alley', 'FireplaceQu', 'PoolQC', 'Fence', 'MiscFeature']\n"
     ]
    }
   ],
   "source": [
    "print(train_remove_cols)\n",
    "print(test_remove_cols)"
   ]
  },
  {
   "cell_type": "code",
   "execution_count": 9,
   "metadata": {
    "collapsed": true
   },
   "outputs": [],
   "source": [
    "#removing columns with high null values\n",
    "train.drop(train_remove_cols,axis=1,inplace=True)\n",
    "test.drop(train_remove_cols,axis=1,inplace=True)"
   ]
  },
  {
   "cell_type": "code",
   "execution_count": 10,
   "metadata": {
    "collapsed": true
   },
   "outputs": [],
   "source": [
    "#columns with null values\n",
    "train_null_cols=[val for val in train.columns if train[val].isnull().any()]\n",
    "test_null_cols=[val for val in test.columns if test[val].isnull().any()]"
   ]
  },
  {
   "cell_type": "code",
   "execution_count": 11,
   "metadata": {
    "collapsed": true
   },
   "outputs": [],
   "source": [
    "#HANDLING NULL VALUES\n",
    "#if column contain categorical variable then fill null value of column by most frequent class\n",
    "#if column contain numerical varible and if number of unique values is greater than \"fill_limit\" then fill\n",
    "#null values by mean of column else fill null value with most frequent unique value\n",
    "#also numerical column is considered categorial if number of unique values in column is less than equal to \"fill_limit\" "
   ]
  },
  {
   "cell_type": "code",
   "execution_count": 12,
   "metadata": {
    "collapsed": true
   },
   "outputs": [],
   "source": [
    "fill_limit=5\n",
    "for col in train_null_cols:\n",
    "    if train[col].dtypes=='object':\n",
    "        mode=train[col].mode()[0]\n",
    "        train[col].fillna(mode,inplace=True)\n",
    "    else:\n",
    "        if len(train[col].unique())>fill_limit:\n",
    "            mean=train[col].mean()\n",
    "            train[col].fillna(mean,inplace=True)\n",
    "        else:\n",
    "            mode=train[col].mode()[0]\n",
    "            train[col].fillna(mode,inplace=True)\n",
    "for col in test_null_cols:\n",
    "    if test[col].dtypes=='object':\n",
    "        mode=test[col].mode()[0]\n",
    "        test[col].fillna(mode,inplace=True)\n",
    "    else:\n",
    "        if len(test[col].unique())>fill_limit:\n",
    "            mean=test[col].mean()\n",
    "            test[col].fillna(mean,inplace=True)\n",
    "        else:\n",
    "            mode=test[col].mode()[0]\n",
    "            test[col].fillna(mode,inplace=True)"
   ]
  },
  {
   "cell_type": "code",
   "execution_count": 13,
   "metadata": {
    "collapsed": true
   },
   "outputs": [],
   "source": [
    "#HANDLING CATEGORICAL COLUMNS\n",
    "#columns with categorical values\n",
    "categorical_cols=[col for col in train.columns if train[col].dtypes==object]"
   ]
  },
  {
   "cell_type": "code",
   "execution_count": 14,
   "metadata": {},
   "outputs": [
    {
     "name": "stdout",
     "output_type": "stream",
     "text": [
      "MSZoning 5\n",
      "Street 2\n",
      "LotShape 4\n",
      "LandContour 4\n",
      "Utilities 2\n",
      "LotConfig 5\n",
      "LandSlope 3\n",
      "Neighborhood 25\n",
      "Condition1 9\n",
      "Condition2 8\n",
      "BldgType 5\n",
      "HouseStyle 8\n",
      "RoofStyle 6\n",
      "RoofMatl 8\n",
      "Exterior1st 15\n",
      "Exterior2nd 16\n",
      "MasVnrType 4\n",
      "ExterQual 4\n",
      "ExterCond 5\n",
      "Foundation 6\n",
      "BsmtQual 4\n",
      "BsmtCond 4\n",
      "BsmtExposure 4\n",
      "BsmtFinType1 6\n",
      "BsmtFinType2 6\n",
      "Heating 6\n",
      "HeatingQC 5\n",
      "CentralAir 2\n",
      "Electrical 5\n",
      "KitchenQual 4\n",
      "Functional 7\n",
      "GarageType 6\n",
      "GarageFinish 3\n",
      "GarageQual 5\n",
      "GarageCond 5\n",
      "PavedDrive 3\n",
      "SaleType 9\n",
      "SaleCondition 6\n"
     ]
    }
   ],
   "source": [
    "#number of differnt classes in categorical columns\n",
    "for col in categorical_cols:\n",
    "    print(col,len(train[col].unique())) "
   ]
  },
  {
   "cell_type": "code",
   "execution_count": 15,
   "metadata": {
    "collapsed": true
   },
   "outputs": [],
   "source": [
    "#dummy_cols is categorical columns to be one hot encoded if number of unique values in particular column is less than or equal to \"fill_limit\"\n",
    "#label_cols is categorical columns to be label encoded if number of unique values in particular column is greater than \"fill_limit\"     \n",
    "dummy_cols=[col for col in categorical_cols if len(train[col].unique())<=fill_limit]\n",
    "label_cols=[col for col in categorical_cols if len(train[col].unique())>fill_limit]"
   ]
  },
  {
   "cell_type": "code",
   "execution_count": 16,
   "metadata": {
    "collapsed": true
   },
   "outputs": [],
   "source": [
    "train_dummy=train[dummy_cols]\n",
    "test_dummy=test[dummy_cols]"
   ]
  },
  {
   "cell_type": "code",
   "execution_count": 17,
   "metadata": {
    "collapsed": true
   },
   "outputs": [],
   "source": [
    "#one hot encoding dummy_cols\n",
    "import sklearn.preprocessing as skp\n",
    "one_hot=skp.OneHotEncoder(sparse=False,drop='first')\n",
    "train_dummy=pd.DataFrame(one_hot.fit_transform(train_dummy))\n",
    "test_dummy=pd.DataFrame(one_hot.transform(test_dummy))"
   ]
  },
  {
   "cell_type": "code",
   "execution_count": 18,
   "metadata": {
    "collapsed": true
   },
   "outputs": [],
   "source": [
    "#label encoding label_cols\n",
    "for col in label_cols:\n",
    "    a=skp.LabelEncoder()\n",
    "    train[col]=a.fit_transform(train[col])\n",
    "    test[col]=a.transform(test[col])"
   ]
  },
  {
   "cell_type": "code",
   "execution_count": 19,
   "metadata": {
    "collapsed": true
   },
   "outputs": [],
   "source": [
    "#dropping dummy_cols \n",
    "train.drop(dummy_cols,inplace=True,axis=1)\n",
    "test.drop(dummy_cols,inplace=True,axis=1)"
   ]
  },
  {
   "cell_type": "code",
   "execution_count": 20,
   "metadata": {
    "collapsed": true
   },
   "outputs": [],
   "source": [
    "#feature scalling \n",
    "#no feature scalling on one hot encoded columns\n",
    "scx=skp.StandardScaler()\n",
    "temp_train=pd.DataFrame(scx.fit_transform(train))\n",
    "temp_test=pd.DataFrame(scx.transform(test))\n",
    "#feature scalling target value\n",
    "scy=skp.StandardScaler()\n",
    "y=scy.fit_transform(input_train[['SalePrice']]).ravel()"
   ]
  },
  {
   "cell_type": "code",
   "execution_count": 21,
   "metadata": {
    "collapsed": true
   },
   "outputs": [],
   "source": [
    "#preserving column names\n",
    "temp_train.columns=train.columns\n",
    "temp_test.columns=test.columns"
   ]
  },
  {
   "cell_type": "code",
   "execution_count": 22,
   "metadata": {
    "collapsed": true
   },
   "outputs": [],
   "source": [
    "#final train and test dataset with feature scalling \n",
    "ftrain=pd.concat([temp_train,train_dummy],axis=1)\n",
    "ftest=pd.concat([temp_test,test_dummy],axis=1)"
   ]
  },
  {
   "cell_type": "code",
   "execution_count": 23,
   "metadata": {
    "collapsed": true
   },
   "outputs": [],
   "source": [
    "#MODEL PERFORMANCE TEST\n",
    "# K FOLD CROSS VALIDATION FOR DIFFRENT REGRESSION MODEL\n",
    "#no hyper parameter tuning now\n",
    "#selecting model with highest r2 score"
   ]
  },
  {
   "cell_type": "code",
   "execution_count": 25,
   "metadata": {},
   "outputs": [
    {
     "name": "stdout",
     "output_type": "stream",
     "text": [
      "(1460, 117)\n"
     ]
    }
   ],
   "source": [
    "X=ftrain.copy()\n",
    "Xtest=ftest.copy()\n",
    "print(X.shape)"
   ]
  },
  {
   "cell_type": "code",
   "execution_count": 26,
   "metadata": {
    "collapsed": true
   },
   "outputs": [],
   "source": [
    "import sklearn.model_selection as skms"
   ]
  },
  {
   "cell_type": "code",
   "execution_count": 27,
   "metadata": {},
   "outputs": [
    {
     "name": "stdout",
     "output_type": "stream",
     "text": [
      "r2score linear regression -2.9684820077685427e+18\n"
     ]
    }
   ],
   "source": [
    "#LINEAR REGRESSION\n",
    "import sklearn.linear_model as sklm\n",
    "model_linear_reg=sklm.LinearRegression()\n",
    "score=skms.cross_val_score(estimator=model_linear_reg,X=X,y=y,cv=5,n_jobs=-1)\n",
    "score_linear_regression=score.mean()\n",
    "print('r2score linear regression',score_linear_regression)"
   ]
  },
  {
   "cell_type": "code",
   "execution_count": 28,
   "metadata": {},
   "outputs": [
    {
     "name": "stdout",
     "output_type": "stream",
     "text": [
      "r2score ridge linear regression 0.8192265611524991\n"
     ]
    }
   ],
   "source": [
    "#RIDGE LINEAR REGRESSION\n",
    "model_ridge_linear=sklm.Ridge()\n",
    "score=skms.cross_val_score(estimator=model_ridge_linear,X=X,y=y,cv=5,n_jobs=-1)\n",
    "score_ridge_linear=score.mean()\n",
    "print('r2score ridge linear regression',score_ridge_linear)"
   ]
  },
  {
   "cell_type": "code",
   "execution_count": 29,
   "metadata": {},
   "outputs": [
    {
     "name": "stdout",
     "output_type": "stream",
     "text": [
      "r2score SVR linear 0.8341747553518918\n"
     ]
    }
   ],
   "source": [
    "#SUPPORT VECTOR REGRESSION\n",
    "#SVR LINEAR\n",
    "import sklearn.svm as skvm\n",
    "model_svr_linear=skvm.SVR(kernel='linear')\n",
    "score=skms.cross_val_score(estimator=model_svr_linear,X=X,y=y,cv=5,n_jobs=-1)\n",
    "score_svr_linear=score.mean()\n",
    "print('r2score SVR linear',score_svr_linear)"
   ]
  },
  {
   "cell_type": "code",
   "execution_count": 30,
   "metadata": {},
   "outputs": [
    {
     "name": "stdout",
     "output_type": "stream",
     "text": [
      "r2score SVR kernel RBF 0.8132528702681293\n"
     ]
    }
   ],
   "source": [
    "#SVR RBF kernel \n",
    "model_svr_rbf=skvm.SVR(kernel='rbf')\n",
    "score=skms.cross_val_score(estimator=model_svr_rbf,X=X,y=y,cv=5,n_jobs=-1)\n",
    "score_svr_rbf=score.mean()\n",
    "print('r2score SVR kernel RBF',score_svr_rbf)"
   ]
  },
  {
   "cell_type": "code",
   "execution_count": 31,
   "metadata": {},
   "outputs": [
    {
     "name": "stdout",
     "output_type": "stream",
     "text": [
      "r2score decision tree 0.6967528626612628\n"
     ]
    }
   ],
   "source": [
    "#DECISION TREE REGRESSOR\n",
    "import sklearn.tree as skt\n",
    "model_decision_tree=skt.DecisionTreeRegressor()\n",
    "score=skms.cross_val_score(estimator=model_decision_tree,X=X,y=y,cv=5,n_jobs=-1)\n",
    "score_decsion_tree=score.mean()\n",
    "print('r2score decision tree',score_decsion_tree)"
   ]
  },
  {
   "cell_type": "code",
   "execution_count": 32,
   "metadata": {},
   "outputs": [
    {
     "name": "stdout",
     "output_type": "stream",
     "text": [
      "r2score random forest 0.8575584667042531\n"
     ]
    }
   ],
   "source": [
    "#RANDOM FOREST REGRESSOR\n",
    "import sklearn.ensemble as ske\n",
    "model_random_forest=ske.RandomForestRegressor()\n",
    "score=skms.cross_val_score(estimator=model_random_forest,X=X,y=y,cv=5,n_jobs=-1)\n",
    "score_random_forest=score.mean()\n",
    "print('r2score random forest',score_random_forest)"
   ]
  },
  {
   "cell_type": "code",
   "execution_count": 33,
   "metadata": {},
   "outputs": [
    {
     "name": "stdout",
     "output_type": "stream",
     "text": [
      "r2score XGBoost 0.8711063580111891\n"
     ]
    }
   ],
   "source": [
    "#XGBOOST REGRESSOR\n",
    "import xgboost as xgb\n",
    "model_xgb=xgb.XGBRegressor()\n",
    "score=skms.cross_val_score(estimator=model_xgb,X=X,y=y,cv=5,n_jobs=-1)\n",
    "score_xgb=score.mean()\n",
    "print('r2score XGBoost',score_xgb)"
   ]
  },
  {
   "cell_type": "code",
   "execution_count": 34,
   "metadata": {},
   "outputs": [
    {
     "name": "stdout",
     "output_type": "stream",
     "text": [
      "r2score linear regression -2.9684820077685427e+18\n",
      "r2score ridge linear regression 0.8192265611524991\n",
      "r2score SVR linear 0.8341747553518918\n",
      "r2score SVR kernel RBF 0.8132528702681293\n",
      "r2score decision tree 0.6967528626612628\n",
      "r2score random forest 0.8575584667042531\n",
      "r2score XGBoost 0.8711063580111891\n"
     ]
    }
   ],
   "source": [
    "print('r2score linear regression',score_linear_regression)\n",
    "print('r2score ridge linear regression',score_ridge_linear)\n",
    "print('r2score SVR linear',score_svr_linear)\n",
    "print('r2score SVR kernel RBF',score_svr_rbf)\n",
    "print('r2score decision tree',score_decsion_tree)\n",
    "print('r2score random forest',score_random_forest)\n",
    "print('r2score XGBoost',score_xgb)"
   ]
  },
  {
   "cell_type": "code",
   "execution_count": 35,
   "metadata": {
    "collapsed": true
   },
   "outputs": [],
   "source": [
    "#XGBoost regressor is best model with highest r2 score\n",
    "#hyperparameter tuning \n",
    "#rgrid search \n",
    "#finding best parameters which can fit model best"
   ]
  },
  {
   "cell_type": "code",
   "execution_count": 36,
   "metadata": {},
   "outputs": [
    {
     "name": "stdout",
     "output_type": "stream",
     "text": [
      "[21:43:31] WARNING: C:/Users/Administrator/workspace/xgboost-win64_release_1.3.0/src/learner.cc:541: \n",
      "Parameters: { Learning_rate } might not be used.\n",
      "\n",
      "  This may not be accurate due to some parameters are only used in language bindings but\n",
      "  passed down to XGBoost core.  Or some parameters are not used but slip through this\n",
      "  verification. Please open an issue if you find above cases.\n",
      "\n",
      "\n",
      "best_score grid search 0.8474636296562343\n",
      "best_parameters {'n_estimators': 420, 'max_depth': 19, 'Learning_rate': 0.4}\n"
     ]
    }
   ],
   "source": [
    "n_estimators=[20*i for i in range(1,31)]\n",
    "max_depth=[i for i in range(1,51)]\n",
    "max_depth.append(None)\n",
    "model=xgb.XGBRegressor(random_state=0)\n",
    "parameter={'n_estimators':n_estimators ,'max_depth':max_depth,'Learning_rate':[0.05,0.1,0.2,0.3,0.4,0.5,0.6,0.7,0.8,0.9]}\n",
    "grid_search = skms.RandomizedSearchCV(estimator=model,param_distributions = parameter,cv = 5,n_jobs = -1)\n",
    "grid_search.fit(X,y)\n",
    "print('best_score grid search',grid_search.best_score_)\n",
    "print('best_parameters',grid_search.best_params_)"
   ]
  },
  {
   "cell_type": "code",
   "execution_count": 37,
   "metadata": {},
   "outputs": [
    {
     "name": "stdout",
     "output_type": "stream",
     "text": [
      "[21:43:38] WARNING: C:/Users/Administrator/workspace/xgboost-win64_release_1.3.0/src/learner.cc:541: \n",
      "Parameters: { Learning_rate } might not be used.\n",
      "\n",
      "  This may not be accurate due to some parameters are only used in language bindings but\n",
      "  passed down to XGBoost core.  Or some parameters are not used but slip through this\n",
      "  verification. Please open an issue if you find above cases.\n",
      "\n",
      "\n"
     ]
    },
    {
     "data": {
      "text/plain": [
       "XGBRegressor(Learning_rate=0.4, base_score=0.5, booster='gbtree',\n",
       "             colsample_bylevel=1, colsample_bynode=1, colsample_bytree=1,\n",
       "             gamma=0, gpu_id=-1, importance_type='gain',\n",
       "             interaction_constraints='', learning_rate=0.300000012,\n",
       "             max_delta_step=0, max_depth=19, min_child_weight=1, missing=nan,\n",
       "             monotone_constraints='()', n_estimators=420, n_jobs=4,\n",
       "             num_parallel_tree=1, random_state=0, reg_alpha=0, reg_lambda=1,\n",
       "             scale_pos_weight=1, subsample=1, tree_method='exact',\n",
       "             validate_parameters=1, verbosity=None)"
      ]
     },
     "execution_count": 37,
     "metadata": {},
     "output_type": "execute_result"
    }
   ],
   "source": [
    "best_model=grid_search.best_estimator_\n",
    "best_model.fit(X,y)"
   ]
  },
  {
   "cell_type": "code",
   "execution_count": 38,
   "metadata": {
    "collapsed": true
   },
   "outputs": [],
   "source": [
    "import sklearn.metrics as skmet\n",
    "ypred=best_model.predict(X)"
   ]
  },
  {
   "cell_type": "code",
   "execution_count": 39,
   "metadata": {},
   "outputs": [
    {
     "name": "stdout",
     "output_type": "stream",
     "text": [
      "root mean squred log error 0.0003147649816284884\n"
     ]
    }
   ],
   "source": [
    "print('root mean squred log error',np.sqrt(skmet.mean_squared_log_error(scy.inverse_transform(y),scy.inverse_transform(ypred))))"
   ]
  },
  {
   "cell_type": "code",
   "execution_count": 40,
   "metadata": {},
   "outputs": [
    {
     "name": "stdout",
     "output_type": "stream",
     "text": [
      "r2 score 0.9999997840568646\n"
     ]
    }
   ],
   "source": [
    "print('r2 score',skmet.r2_score(y,ypred))"
   ]
  },
  {
   "cell_type": "code",
   "execution_count": 41,
   "metadata": {
    "collapsed": true
   },
   "outputs": [],
   "source": [
    "test_prediction=scy.inverse_transform(best_model.predict(Xtest))"
   ]
  },
  {
   "cell_type": "code",
   "execution_count": 42,
   "metadata": {
    "collapsed": true
   },
   "outputs": [],
   "source": [
    "new=pd.DataFrame()\n",
    "new['Id']=input_test['Id']\n",
    "new['SalePrice']=test_prediction\n",
    "new.to_csv('mysubmission.csv',index=False)"
   ]
  },
  {
   "cell_type": "code",
   "execution_count": null,
   "metadata": {
    "collapsed": true
   },
   "outputs": [],
   "source": []
  }
 ],
 "metadata": {
  "kernelspec": {
   "display_name": "Python 3",
   "language": "python",
   "name": "python3"
  },
  "language_info": {
   "codemirror_mode": {
    "name": "ipython",
    "version": 3
   },
   "file_extension": ".py",
   "mimetype": "text/x-python",
   "name": "python",
   "nbconvert_exporter": "python",
   "pygments_lexer": "ipython3",
   "version": "3.6.3"
  }
 },
 "nbformat": 4,
 "nbformat_minor": 2
}
